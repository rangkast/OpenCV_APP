{
 "cells": [
  {
   "cell_type": "code",
   "execution_count": 2,
   "metadata": {},
   "outputs": [
    {
     "name": "stdout",
     "output_type": "stream",
     "text": [
      "Jupyter environment detected. Enabling Open3D WebVisualizer.\n",
      "[Open3D INFO] WebRTC GUI backend enabled.\n",
      "[Open3D INFO] WebRTCWindowSystem: HTTP handshake server disabled.\n"
     ]
    }
   ],
   "source": [
    "import cv2\n",
    "import numpy as np\n",
    "import matplotlib.pyplot as plt\n",
    "from mpl_toolkits import mplot3d\n",
    "import json\n",
    "import random\n",
    "import signal\n",
    "from collections import OrderedDict\n",
    "from dataclasses import dataclass\n",
    "import copy\n",
    "import matplotlib.pyplot as plt\n",
    "from scipy.spatial.transform import Rotation as R\n",
    "import numpy as np\n",
    "import subprocess\n",
    "from operator import itemgetter, attrgetter\n",
    "import re\n",
    "import subprocess\n",
    "import cv2\n",
    "import traceback\n",
    "import math\n",
    "import open3d as o3d\n",
    "import os\n",
    "import sys"
   ]
  },
  {
   "cell_type": "code",
   "execution_count": 3,
   "metadata": {},
   "outputs": [],
   "source": [
    "\n",
    "def rw_json_data(rw_mode, path, data):\n",
    "    try:\n",
    "        if rw_mode == READ:\n",
    "            with open(path, 'r', encoding=\"utf-8\") as rdata:\n",
    "                json_data = json.load(rdata)\n",
    "            return json_data\n",
    "        elif rw_mode == WRITE:\n",
    "            with open(path, 'w', encoding=\"utf-8\") as wdata:\n",
    "                json.dump(data, wdata, ensure_ascii=False, indent=\"\\t\")\n",
    "        else:\n",
    "            print('not support mode')\n",
    "    except:\n",
    "        print('exception')\n",
    "        return ERROR\n",
    "\n",
    "\n",
    "def rw_file_storage(rw_cmd, name, left_map, right_map):\n",
    "    if rw_cmd == WRITE:\n",
    "        print(\"WRITE parameters ......\")\n",
    "        cv_file = cv2.FileStorage(name, cv2.FILE_STORAGE_WRITE)\n",
    "        cv_file.write(\"Left_Stereo_Map_x\", left_map[0])\n",
    "        cv_file.write(\"Left_Stereo_Map_y\", left_map[1])\n",
    "        cv_file.write(\"Right_Stereo_Map_x\", right_map[0])\n",
    "        cv_file.write(\"Right_Stereo_Map_y\", right_map[1])\n",
    "        cv_file.release()\n",
    "    else:\n",
    "        print(\"READ parameters ......\")\n",
    "        try:\n",
    "            # FILE_STORAGE_READ\n",
    "            cv_file = cv2.FileStorage(name, cv2.FILE_STORAGE_READ)\n",
    "            # note we also have to specify the type to retrieve other wise we only get a\n",
    "            # FileNode object back instead of a matrix\n",
    "            left_map = (cv_file.getNode(\"Left_Stereo_Map_x\").mat(), cv_file.getNode(\"Left_Stereo_Map_y\").mat())\n",
    "            right_map = (cv_file.getNode(\"Right_Stereo_Map_x\").mat(), cv_file.getNode(\"Right_Stereo_Map_y\").mat())\n",
    "\n",
    "            cv_file.release()\n",
    "\n",
    "            return DONE, left_map, right_map\n",
    "        except:\n",
    "            traceback.print_exc()\n",
    "            return ERROR, NOT_SET, NOT_SET\n",
    "\n",
    "\n",
    "def Rotate(src, degrees):\n",
    "    if degrees == 90:\n",
    "        dst = cv2.transpose(src)\n",
    "        dst = cv2.flip(dst, 1)\n",
    "\n",
    "    elif degrees == 180:\n",
    "        dst = cv2.flip(src, -1)\n",
    "\n",
    "    elif degrees == 270:\n",
    "        dst = cv2.transpose(src)\n",
    "        dst = cv2.flip(dst, 0)\n",
    "    else:\n",
    "        dst = NOT_SET\n",
    "    return dst\n",
    "\n",
    "\n",
    "CAM_1 = [\"/dev/video4\", \"imgL\"]\n",
    "CAM_2 = [\"/dev/video5\", \"imgR\"]\n",
    "\n",
    "CAP_PROP_FRAME_WIDTH = 1920\n",
    "CAP_PROP_FRAME_HEIGHT = 1080\n",
    "\n",
    "# Defining the dimensions of checkerboard\n",
    "CHECKERBOARD = (7, 4)\n",
    "# Termination criteria for refining the detected corners\n",
    "CRITERIA = (cv2.TERM_CRITERIA_EPS + cv2.TERM_CRITERIA_MAX_ITER, 30, 0.001)\n",
    "\n",
    "ENABLE = 1\n",
    "DISABLE = 0\n",
    "DONE = 'DONE'\n",
    "NOT_SET = 'NOT_SET'\n",
    "READ = 0\n",
    "WRITE = 1\n",
    "ERROR = -1\n",
    "SUCCESS = 1\n",
    "\n",
    "JSON_FILE = 'stereo_json'\n",
    "EXTERNAL_TOOL_CALIBRATION = 'calibration_json'\n",
    "RECTIFY_MAP = \"improved_params2.xml\"\n",
    "CAM_DELAY = 1\n",
    "\n",
    "USE_EXTERNAL_TOOL_CALIBRAION = DISABLE\n",
    "\n",
    "data_info_dictionary = {'display': {'left': [CAP_PROP_FRAME_WIDTH, CAP_PROP_FRAME_HEIGHT],\n",
    "                                    'right': [CAP_PROP_FRAME_WIDTH, CAP_PROP_FRAME_HEIGHT]}}\n",
    "\n"
   ]
  },
  {
   "cell_type": "code",
   "execution_count": 4,
   "metadata": {},
   "outputs": [],
   "source": [
    "def camera_setting():\n",
    "    print('start open_camera')\n",
    "\n",
    "    cap1 = cv2.VideoCapture(CAM_1[0])\n",
    "    cap1_name = CAM_1[1]\n",
    "    cap2 = cv2.VideoCapture(CAM_2[0])\n",
    "    cap2_name = CAM_2[1]\n",
    "\n",
    "    width = cap1.get(cv2.CAP_PROP_FRAME_WIDTH)\n",
    "    height = cap1.get(cv2.CAP_PROP_FRAME_HEIGHT)\n",
    "    print('cap1 size: %d, %d' % (width, height))\n",
    "    data_info_dictionary['display']['left'][0] = width\n",
    "    data_info_dictionary['display']['left'][1] = height\n",
    "\n",
    "    width = cap2.get(cv2.CAP_PROP_FRAME_WIDTH)\n",
    "    height = cap2.get(cv2.CAP_PROP_FRAME_HEIGHT)\n",
    "    print('cap2 size: %d, %d' % (width, height))\n",
    "    data_info_dictionary['display']['right'][0] = width\n",
    "    data_info_dictionary['display']['right'][1] = height\n",
    "\n",
    "    if not cap1.isOpened() or not cap2.isOpened():\n",
    "        sys.exit()\n",
    "\n",
    "    while True:\n",
    "        ret1, frame1 = cap1.read()\n",
    "        ret2, frame2 = cap2.read()\n",
    "        if not ret1 or not ret2:\n",
    "            break\n",
    "        if cv2.waitKey(1) & 0xFF == 27:  # Esc pressed\n",
    "            break\n",
    "        imgL = Rotate(frame1, 270)\n",
    "        imgR = Rotate(frame2, 270)\n",
    "        view_camera_infos(imgL, f'{cap1_name}', 30, 35)\n",
    "        cv2.circle(imgL, (int(CAP_PROP_FRAME_WIDTH / 2), int(CAP_PROP_FRAME_HEIGHT / 2)), 2, color=(0, 0, 255),\n",
    "                   thickness=-1)\n",
    "        cv2.imshow('left camera', imgL)\n",
    "        view_camera_infos(imgR, f'{cap2_name}', 30, 35)\n",
    "        cv2.circle(imgR, (int(CAP_PROP_FRAME_WIDTH / 2), int(CAP_PROP_FRAME_HEIGHT / 2)), 2, color=(0, 0, 255),\n",
    "                   thickness=-1)\n",
    "        cv2.imshow(\"right camera\", imgR)\n",
    "\n",
    "        # alpha = 0.5\n",
    "        #\n",
    "        # after_frame = cv2.addWeighted(frame1, alpha, frame2, alpha, 0)\n",
    "        # cv2.imshow('stereo camera', after_frame)\n",
    "\n",
    "        cv2.waitKey(CAM_DELAY)\n",
    "\n",
    "    cap1.release()\n",
    "    cap2.release()\n",
    "    cv2.destroyAllWindows()"
   ]
  },
  {
   "cell_type": "code",
   "execution_count": 5,
   "metadata": {},
   "outputs": [],
   "source": [
    "def view_camera_infos(frame, text, x, y):\n",
    "    cv2.putText(frame, text,\n",
    "                (x, y),\n",
    "                cv2.FONT_HERSHEY_SIMPLEX, 1, (255, 255, 255), lineType=cv2.LINE_AA)\n"
   ]
  },
  {
   "cell_type": "code",
   "execution_count": 7,
   "metadata": {},
   "outputs": [
    {
     "name": "stdout",
     "output_type": "stream",
     "text": [
      "start open_camera\n",
      "cap1 size: 1080, 1920\n",
      "cap2 size: 1080, 1920\n"
     ]
    }
   ],
   "source": [
    "# 1.\n",
    "# open camera\n",
    "camera_setting()"
   ]
  },
  {
   "cell_type": "code",
   "execution_count": 8,
   "metadata": {},
   "outputs": [
    {
     "name": "stdout",
     "output_type": "stream",
     "text": [
      "data info dictionary {'display': {'left': [1080.0, 1920.0], 'right': [1080.0, 1920.0]}}\n"
     ]
    }
   ],
   "source": [
    "print('data info dictionary', data_info_dictionary)"
   ]
  }
 ],
 "metadata": {
  "interpreter": {
   "hash": "e7370f93d1d0cde622a1f8e1c04877d8463912d04d973331ad4851f04de6915a"
  },
  "kernelspec": {
   "display_name": "Python 3.8.10 64-bit",
   "language": "python",
   "name": "python3"
  },
  "language_info": {
   "codemirror_mode": {
    "name": "ipython",
    "version": 3
   },
   "file_extension": ".py",
   "mimetype": "text/x-python",
   "name": "python",
   "nbconvert_exporter": "python",
   "pygments_lexer": "ipython3",
   "version": "3.8.10"
  },
  "orig_nbformat": 4
 },
 "nbformat": 4,
 "nbformat_minor": 2
}
